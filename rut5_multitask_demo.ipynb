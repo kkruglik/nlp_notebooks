{
  "nbformat": 4,
  "nbformat_minor": 0,
  "metadata": {
    "colab": {
      "provenance": [],
      "collapsed_sections": [
        "jvpWpdjNt7tN"
      ],
      "include_colab_link": true
    },
    "kernelspec": {
      "name": "python3",
      "display_name": "Python 3"
    },
    "language_info": {
      "name": "python"
    },
    "accelerator": "GPU",
    "widgets": {
      "application/vnd.jupyter.widget-state+json": {
        "35e0f7b34b044ff9868f2118aa41cace": {
          "model_module": "@jupyter-widgets/controls",
          "model_name": "HBoxModel",
          "model_module_version": "1.5.0",
          "state": {
            "_view_name": "HBoxView",
            "_dom_classes": [],
            "_model_name": "HBoxModel",
            "_view_module": "@jupyter-widgets/controls",
            "_model_module_version": "1.5.0",
            "_view_count": null,
            "_view_module_version": "1.5.0",
            "box_style": "",
            "layout": "IPY_MODEL_b0edee2cd55d40fc8164199fbf426357",
            "_model_module": "@jupyter-widgets/controls",
            "children": [
              "IPY_MODEL_f57de6e28b864ccda8b05f5259eba384",
              "IPY_MODEL_718e5e922c3d4a29b606c858ad5eea29",
              "IPY_MODEL_19234dd241f2466eb5884a399562c3e6"
            ]
          }
        },
        "b0edee2cd55d40fc8164199fbf426357": {
          "model_module": "@jupyter-widgets/base",
          "model_name": "LayoutModel",
          "model_module_version": "1.2.0",
          "state": {
            "_view_name": "LayoutView",
            "grid_template_rows": null,
            "right": null,
            "justify_content": null,
            "_view_module": "@jupyter-widgets/base",
            "overflow": null,
            "_model_module_version": "1.2.0",
            "_view_count": null,
            "flex_flow": null,
            "width": null,
            "min_width": null,
            "border": null,
            "align_items": null,
            "bottom": null,
            "_model_module": "@jupyter-widgets/base",
            "top": null,
            "grid_column": null,
            "overflow_y": null,
            "overflow_x": null,
            "grid_auto_flow": null,
            "grid_area": null,
            "grid_template_columns": null,
            "flex": null,
            "_model_name": "LayoutModel",
            "justify_items": null,
            "grid_row": null,
            "max_height": null,
            "align_content": null,
            "visibility": null,
            "align_self": null,
            "height": null,
            "min_height": null,
            "padding": null,
            "grid_auto_rows": null,
            "grid_gap": null,
            "max_width": null,
            "order": null,
            "_view_module_version": "1.2.0",
            "grid_template_areas": null,
            "object_position": null,
            "object_fit": null,
            "grid_auto_columns": null,
            "margin": null,
            "display": null,
            "left": null
          }
        },
        "f57de6e28b864ccda8b05f5259eba384": {
          "model_module": "@jupyter-widgets/controls",
          "model_name": "HTMLModel",
          "model_module_version": "1.5.0",
          "state": {
            "_view_name": "HTMLView",
            "style": "IPY_MODEL_9b686f3a8e724abe8bda0a2523bb1c1c",
            "_dom_classes": [],
            "description": "",
            "_model_name": "HTMLModel",
            "placeholder": "​",
            "_view_module": "@jupyter-widgets/controls",
            "_model_module_version": "1.5.0",
            "value": "100%",
            "_view_count": null,
            "_view_module_version": "1.5.0",
            "description_tooltip": null,
            "_model_module": "@jupyter-widgets/controls",
            "layout": "IPY_MODEL_9b2337be7274481c8561f0d029e3f4c7"
          }
        },
        "718e5e922c3d4a29b606c858ad5eea29": {
          "model_module": "@jupyter-widgets/controls",
          "model_name": "FloatProgressModel",
          "model_module_version": "1.5.0",
          "state": {
            "_view_name": "ProgressView",
            "style": "IPY_MODEL_82d279851f37448b93caf45718a122b1",
            "_dom_classes": [],
            "description": "",
            "_model_name": "FloatProgressModel",
            "bar_style": "success",
            "max": 4892,
            "_view_module": "@jupyter-widgets/controls",
            "_model_module_version": "1.5.0",
            "value": 4892,
            "_view_count": null,
            "_view_module_version": "1.5.0",
            "orientation": "horizontal",
            "min": 0,
            "description_tooltip": null,
            "_model_module": "@jupyter-widgets/controls",
            "layout": "IPY_MODEL_98bc303e23894c46bede0d858f3efc7d"
          }
        },
        "19234dd241f2466eb5884a399562c3e6": {
          "model_module": "@jupyter-widgets/controls",
          "model_name": "HTMLModel",
          "model_module_version": "1.5.0",
          "state": {
            "_view_name": "HTMLView",
            "style": "IPY_MODEL_8a3675cf66cf484994200b351555db21",
            "_dom_classes": [],
            "description": "",
            "_model_name": "HTMLModel",
            "placeholder": "​",
            "_view_module": "@jupyter-widgets/controls",
            "_model_module_version": "1.5.0",
            "value": " 4892/4892 [15:29&lt;00:00,  5.17it/s]",
            "_view_count": null,
            "_view_module_version": "1.5.0",
            "description_tooltip": null,
            "_model_module": "@jupyter-widgets/controls",
            "layout": "IPY_MODEL_59f45d2f6d7540ff8f858906d1eb9349"
          }
        },
        "9b686f3a8e724abe8bda0a2523bb1c1c": {
          "model_module": "@jupyter-widgets/controls",
          "model_name": "DescriptionStyleModel",
          "model_module_version": "1.5.0",
          "state": {
            "_view_name": "StyleView",
            "_model_name": "DescriptionStyleModel",
            "description_width": "",
            "_view_module": "@jupyter-widgets/base",
            "_model_module_version": "1.5.0",
            "_view_count": null,
            "_view_module_version": "1.2.0",
            "_model_module": "@jupyter-widgets/controls"
          }
        },
        "9b2337be7274481c8561f0d029e3f4c7": {
          "model_module": "@jupyter-widgets/base",
          "model_name": "LayoutModel",
          "model_module_version": "1.2.0",
          "state": {
            "_view_name": "LayoutView",
            "grid_template_rows": null,
            "right": null,
            "justify_content": null,
            "_view_module": "@jupyter-widgets/base",
            "overflow": null,
            "_model_module_version": "1.2.0",
            "_view_count": null,
            "flex_flow": null,
            "width": null,
            "min_width": null,
            "border": null,
            "align_items": null,
            "bottom": null,
            "_model_module": "@jupyter-widgets/base",
            "top": null,
            "grid_column": null,
            "overflow_y": null,
            "overflow_x": null,
            "grid_auto_flow": null,
            "grid_area": null,
            "grid_template_columns": null,
            "flex": null,
            "_model_name": "LayoutModel",
            "justify_items": null,
            "grid_row": null,
            "max_height": null,
            "align_content": null,
            "visibility": null,
            "align_self": null,
            "height": null,
            "min_height": null,
            "padding": null,
            "grid_auto_rows": null,
            "grid_gap": null,
            "max_width": null,
            "order": null,
            "_view_module_version": "1.2.0",
            "grid_template_areas": null,
            "object_position": null,
            "object_fit": null,
            "grid_auto_columns": null,
            "margin": null,
            "display": null,
            "left": null
          }
        },
        "82d279851f37448b93caf45718a122b1": {
          "model_module": "@jupyter-widgets/controls",
          "model_name": "ProgressStyleModel",
          "model_module_version": "1.5.0",
          "state": {
            "_view_name": "StyleView",
            "_model_name": "ProgressStyleModel",
            "description_width": "",
            "_view_module": "@jupyter-widgets/base",
            "_model_module_version": "1.5.0",
            "_view_count": null,
            "_view_module_version": "1.2.0",
            "bar_color": null,
            "_model_module": "@jupyter-widgets/controls"
          }
        },
        "98bc303e23894c46bede0d858f3efc7d": {
          "model_module": "@jupyter-widgets/base",
          "model_name": "LayoutModel",
          "model_module_version": "1.2.0",
          "state": {
            "_view_name": "LayoutView",
            "grid_template_rows": null,
            "right": null,
            "justify_content": null,
            "_view_module": "@jupyter-widgets/base",
            "overflow": null,
            "_model_module_version": "1.2.0",
            "_view_count": null,
            "flex_flow": null,
            "width": null,
            "min_width": null,
            "border": null,
            "align_items": null,
            "bottom": null,
            "_model_module": "@jupyter-widgets/base",
            "top": null,
            "grid_column": null,
            "overflow_y": null,
            "overflow_x": null,
            "grid_auto_flow": null,
            "grid_area": null,
            "grid_template_columns": null,
            "flex": null,
            "_model_name": "LayoutModel",
            "justify_items": null,
            "grid_row": null,
            "max_height": null,
            "align_content": null,
            "visibility": null,
            "align_self": null,
            "height": null,
            "min_height": null,
            "padding": null,
            "grid_auto_rows": null,
            "grid_gap": null,
            "max_width": null,
            "order": null,
            "_view_module_version": "1.2.0",
            "grid_template_areas": null,
            "object_position": null,
            "object_fit": null,
            "grid_auto_columns": null,
            "margin": null,
            "display": null,
            "left": null
          }
        },
        "8a3675cf66cf484994200b351555db21": {
          "model_module": "@jupyter-widgets/controls",
          "model_name": "DescriptionStyleModel",
          "model_module_version": "1.5.0",
          "state": {
            "_view_name": "StyleView",
            "_model_name": "DescriptionStyleModel",
            "description_width": "",
            "_view_module": "@jupyter-widgets/base",
            "_model_module_version": "1.5.0",
            "_view_count": null,
            "_view_module_version": "1.2.0",
            "_model_module": "@jupyter-widgets/controls"
          }
        },
        "59f45d2f6d7540ff8f858906d1eb9349": {
          "model_module": "@jupyter-widgets/base",
          "model_name": "LayoutModel",
          "model_module_version": "1.2.0",
          "state": {
            "_view_name": "LayoutView",
            "grid_template_rows": null,
            "right": null,
            "justify_content": null,
            "_view_module": "@jupyter-widgets/base",
            "overflow": null,
            "_model_module_version": "1.2.0",
            "_view_count": null,
            "flex_flow": null,
            "width": null,
            "min_width": null,
            "border": null,
            "align_items": null,
            "bottom": null,
            "_model_module": "@jupyter-widgets/base",
            "top": null,
            "grid_column": null,
            "overflow_y": null,
            "overflow_x": null,
            "grid_auto_flow": null,
            "grid_area": null,
            "grid_template_columns": null,
            "flex": null,
            "_model_name": "LayoutModel",
            "justify_items": null,
            "grid_row": null,
            "max_height": null,
            "align_content": null,
            "visibility": null,
            "align_self": null,
            "height": null,
            "min_height": null,
            "padding": null,
            "grid_auto_rows": null,
            "grid_gap": null,
            "max_width": null,
            "order": null,
            "_view_module_version": "1.2.0",
            "grid_template_areas": null,
            "object_position": null,
            "object_fit": null,
            "grid_auto_columns": null,
            "margin": null,
            "display": null,
            "left": null
          }
        },
        "70e432469d154cdca96782959ba712e1": {
          "model_module": "@jupyter-widgets/controls",
          "model_name": "HBoxModel",
          "model_module_version": "1.5.0",
          "state": {
            "_view_name": "HBoxView",
            "_dom_classes": [],
            "_model_name": "HBoxModel",
            "_view_module": "@jupyter-widgets/controls",
            "_model_module_version": "1.5.0",
            "_view_count": null,
            "_view_module_version": "1.5.0",
            "box_style": "",
            "layout": "IPY_MODEL_cd171f013df54246b5ea8c6661b94880",
            "_model_module": "@jupyter-widgets/controls",
            "children": [
              "IPY_MODEL_1a900a508545433b8eaccd5a7d46742a",
              "IPY_MODEL_f32adc38d36245dd93141fbe6114a616",
              "IPY_MODEL_168b42033aa04a1f86c35a896a0e97ae"
            ]
          }
        },
        "cd171f013df54246b5ea8c6661b94880": {
          "model_module": "@jupyter-widgets/base",
          "model_name": "LayoutModel",
          "model_module_version": "1.2.0",
          "state": {
            "_view_name": "LayoutView",
            "grid_template_rows": null,
            "right": null,
            "justify_content": null,
            "_view_module": "@jupyter-widgets/base",
            "overflow": null,
            "_model_module_version": "1.2.0",
            "_view_count": null,
            "flex_flow": null,
            "width": null,
            "min_width": null,
            "border": null,
            "align_items": null,
            "bottom": null,
            "_model_module": "@jupyter-widgets/base",
            "top": null,
            "grid_column": null,
            "overflow_y": null,
            "overflow_x": null,
            "grid_auto_flow": null,
            "grid_area": null,
            "grid_template_columns": null,
            "flex": null,
            "_model_name": "LayoutModel",
            "justify_items": null,
            "grid_row": null,
            "max_height": null,
            "align_content": null,
            "visibility": null,
            "align_self": null,
            "height": null,
            "min_height": null,
            "padding": null,
            "grid_auto_rows": null,
            "grid_gap": null,
            "max_width": null,
            "order": null,
            "_view_module_version": "1.2.0",
            "grid_template_areas": null,
            "object_position": null,
            "object_fit": null,
            "grid_auto_columns": null,
            "margin": null,
            "display": null,
            "left": null
          }
        },
        "1a900a508545433b8eaccd5a7d46742a": {
          "model_module": "@jupyter-widgets/controls",
          "model_name": "HTMLModel",
          "model_module_version": "1.5.0",
          "state": {
            "_view_name": "HTMLView",
            "style": "IPY_MODEL_1dad717a478d4ad3935a15627e2eca3f",
            "_dom_classes": [],
            "description": "",
            "_model_name": "HTMLModel",
            "placeholder": "​",
            "_view_module": "@jupyter-widgets/controls",
            "_model_module_version": "1.5.0",
            "value": "100%",
            "_view_count": null,
            "_view_module_version": "1.5.0",
            "description_tooltip": null,
            "_model_module": "@jupyter-widgets/controls",
            "layout": "IPY_MODEL_e7345da9af5e4a6a9e509c7e40af6ecb"
          }
        },
        "f32adc38d36245dd93141fbe6114a616": {
          "model_module": "@jupyter-widgets/controls",
          "model_name": "FloatProgressModel",
          "model_module_version": "1.5.0",
          "state": {
            "_view_name": "ProgressView",
            "style": "IPY_MODEL_026806de57ed4a3290f22e4967b41f28",
            "_dom_classes": [],
            "description": "",
            "_model_name": "FloatProgressModel",
            "bar_style": "success",
            "max": 4892,
            "_view_module": "@jupyter-widgets/controls",
            "_model_module_version": "1.5.0",
            "value": 4892,
            "_view_count": null,
            "_view_module_version": "1.5.0",
            "orientation": "horizontal",
            "min": 0,
            "description_tooltip": null,
            "_model_module": "@jupyter-widgets/controls",
            "layout": "IPY_MODEL_0e5eeff3a2b24671a60c02e2aa0ac5d0"
          }
        },
        "168b42033aa04a1f86c35a896a0e97ae": {
          "model_module": "@jupyter-widgets/controls",
          "model_name": "HTMLModel",
          "model_module_version": "1.5.0",
          "state": {
            "_view_name": "HTMLView",
            "style": "IPY_MODEL_7ffa71ded77f4c40887d6adeb86b9536",
            "_dom_classes": [],
            "description": "",
            "_model_name": "HTMLModel",
            "placeholder": "​",
            "_view_module": "@jupyter-widgets/controls",
            "_model_module_version": "1.5.0",
            "value": " 4892/4892 [15:28&lt;00:00,  5.63it/s]",
            "_view_count": null,
            "_view_module_version": "1.5.0",
            "description_tooltip": null,
            "_model_module": "@jupyter-widgets/controls",
            "layout": "IPY_MODEL_5a48079fd4194ff8894f4a9dcc57058b"
          }
        },
        "1dad717a478d4ad3935a15627e2eca3f": {
          "model_module": "@jupyter-widgets/controls",
          "model_name": "DescriptionStyleModel",
          "model_module_version": "1.5.0",
          "state": {
            "_view_name": "StyleView",
            "_model_name": "DescriptionStyleModel",
            "description_width": "",
            "_view_module": "@jupyter-widgets/base",
            "_model_module_version": "1.5.0",
            "_view_count": null,
            "_view_module_version": "1.2.0",
            "_model_module": "@jupyter-widgets/controls"
          }
        },
        "e7345da9af5e4a6a9e509c7e40af6ecb": {
          "model_module": "@jupyter-widgets/base",
          "model_name": "LayoutModel",
          "model_module_version": "1.2.0",
          "state": {
            "_view_name": "LayoutView",
            "grid_template_rows": null,
            "right": null,
            "justify_content": null,
            "_view_module": "@jupyter-widgets/base",
            "overflow": null,
            "_model_module_version": "1.2.0",
            "_view_count": null,
            "flex_flow": null,
            "width": null,
            "min_width": null,
            "border": null,
            "align_items": null,
            "bottom": null,
            "_model_module": "@jupyter-widgets/base",
            "top": null,
            "grid_column": null,
            "overflow_y": null,
            "overflow_x": null,
            "grid_auto_flow": null,
            "grid_area": null,
            "grid_template_columns": null,
            "flex": null,
            "_model_name": "LayoutModel",
            "justify_items": null,
            "grid_row": null,
            "max_height": null,
            "align_content": null,
            "visibility": null,
            "align_self": null,
            "height": null,
            "min_height": null,
            "padding": null,
            "grid_auto_rows": null,
            "grid_gap": null,
            "max_width": null,
            "order": null,
            "_view_module_version": "1.2.0",
            "grid_template_areas": null,
            "object_position": null,
            "object_fit": null,
            "grid_auto_columns": null,
            "margin": null,
            "display": null,
            "left": null
          }
        },
        "026806de57ed4a3290f22e4967b41f28": {
          "model_module": "@jupyter-widgets/controls",
          "model_name": "ProgressStyleModel",
          "model_module_version": "1.5.0",
          "state": {
            "_view_name": "StyleView",
            "_model_name": "ProgressStyleModel",
            "description_width": "",
            "_view_module": "@jupyter-widgets/base",
            "_model_module_version": "1.5.0",
            "_view_count": null,
            "_view_module_version": "1.2.0",
            "bar_color": null,
            "_model_module": "@jupyter-widgets/controls"
          }
        },
        "0e5eeff3a2b24671a60c02e2aa0ac5d0": {
          "model_module": "@jupyter-widgets/base",
          "model_name": "LayoutModel",
          "model_module_version": "1.2.0",
          "state": {
            "_view_name": "LayoutView",
            "grid_template_rows": null,
            "right": null,
            "justify_content": null,
            "_view_module": "@jupyter-widgets/base",
            "overflow": null,
            "_model_module_version": "1.2.0",
            "_view_count": null,
            "flex_flow": null,
            "width": null,
            "min_width": null,
            "border": null,
            "align_items": null,
            "bottom": null,
            "_model_module": "@jupyter-widgets/base",
            "top": null,
            "grid_column": null,
            "overflow_y": null,
            "overflow_x": null,
            "grid_auto_flow": null,
            "grid_area": null,
            "grid_template_columns": null,
            "flex": null,
            "_model_name": "LayoutModel",
            "justify_items": null,
            "grid_row": null,
            "max_height": null,
            "align_content": null,
            "visibility": null,
            "align_self": null,
            "height": null,
            "min_height": null,
            "padding": null,
            "grid_auto_rows": null,
            "grid_gap": null,
            "max_width": null,
            "order": null,
            "_view_module_version": "1.2.0",
            "grid_template_areas": null,
            "object_position": null,
            "object_fit": null,
            "grid_auto_columns": null,
            "margin": null,
            "display": null,
            "left": null
          }
        },
        "7ffa71ded77f4c40887d6adeb86b9536": {
          "model_module": "@jupyter-widgets/controls",
          "model_name": "DescriptionStyleModel",
          "model_module_version": "1.5.0",
          "state": {
            "_view_name": "StyleView",
            "_model_name": "DescriptionStyleModel",
            "description_width": "",
            "_view_module": "@jupyter-widgets/base",
            "_model_module_version": "1.5.0",
            "_view_count": null,
            "_view_module_version": "1.2.0",
            "_model_module": "@jupyter-widgets/controls"
          }
        },
        "5a48079fd4194ff8894f4a9dcc57058b": {
          "model_module": "@jupyter-widgets/base",
          "model_name": "LayoutModel",
          "model_module_version": "1.2.0",
          "state": {
            "_view_name": "LayoutView",
            "grid_template_rows": null,
            "right": null,
            "justify_content": null,
            "_view_module": "@jupyter-widgets/base",
            "overflow": null,
            "_model_module_version": "1.2.0",
            "_view_count": null,
            "flex_flow": null,
            "width": null,
            "min_width": null,
            "border": null,
            "align_items": null,
            "bottom": null,
            "_model_module": "@jupyter-widgets/base",
            "top": null,
            "grid_column": null,
            "overflow_y": null,
            "overflow_x": null,
            "grid_auto_flow": null,
            "grid_area": null,
            "grid_template_columns": null,
            "flex": null,
            "_model_name": "LayoutModel",
            "justify_items": null,
            "grid_row": null,
            "max_height": null,
            "align_content": null,
            "visibility": null,
            "align_self": null,
            "height": null,
            "min_height": null,
            "padding": null,
            "grid_auto_rows": null,
            "grid_gap": null,
            "max_width": null,
            "order": null,
            "_view_module_version": "1.2.0",
            "grid_template_areas": null,
            "object_position": null,
            "object_fit": null,
            "grid_auto_columns": null,
            "margin": null,
            "display": null,
            "left": null
          }
        }
      }
    }
  },
  "cells": [
    {
      "cell_type": "markdown",
      "metadata": {
        "id": "view-in-github",
        "colab_type": "text"
      },
      "source": [
        "<a href=\"https://colab.research.google.com/github/kkruglik/nlp_notebooks/blob/main/rut5_multitask_demo.ipynb\" target=\"_parent\"><img src=\"https://colab.research.google.com/assets/colab-badge.svg\" alt=\"Open In Colab\"/></a>"
      ]
    },
    {
      "cell_type": "markdown",
      "metadata": {
        "id": "reUbcqlaIVhu"
      },
      "source": [
        "# Демо"
      ]
    },
    {
      "cell_type": "code",
      "metadata": {
        "colab": {
          "base_uri": "https://localhost:8080/"
        },
        "id": "CLDCy275rpOL",
        "outputId": "09ae0aec-a7ba-49cd-a12b-542bb62c5e2f"
      },
      "source": [
        "!pip install transformers sentencepiece --quiet"
      ],
      "execution_count": null,
      "outputs": [
        {
          "output_type": "stream",
          "name": "stdout",
          "text": [
            "\u001b[K     |████████████████████████████████| 2.9 MB 8.4 MB/s \n",
            "\u001b[K     |████████████████████████████████| 1.2 MB 34.5 MB/s \n",
            "\u001b[K     |████████████████████████████████| 636 kB 39.2 MB/s \n",
            "\u001b[K     |████████████████████████████████| 3.3 MB 42.0 MB/s \n",
            "\u001b[K     |████████████████████████████████| 895 kB 20.0 MB/s \n",
            "\u001b[K     |████████████████████████████████| 56 kB 4.5 MB/s \n",
            "\u001b[K     |████████████████████████████████| 109 kB 50.7 MB/s \n",
            "\u001b[K     |████████████████████████████████| 546 kB 44.4 MB/s \n",
            "\u001b[?25h"
          ]
        }
      ]
    },
    {
      "cell_type": "code",
      "metadata": {
        "id": "50MWMOFzruaO"
      },
      "source": [
        "import torch\n",
        "from transformers import T5ForConditionalGeneration, T5Tokenizer\n",
        "model_name = \"cointegrated/rut5-base-multitask\"\n",
        "tokenizer = T5Tokenizer.from_pretrained(model_name)\n",
        "model = T5ForConditionalGeneration.from_pretrained(model_name)\n",
        "\n",
        "def generate(text, **kwargs):\n",
        "    inputs = tokenizer(text, return_tensors='pt')\n",
        "    with torch.no_grad():\n",
        "        hypotheses = model.generate(**inputs, num_beams=5, **kwargs)\n",
        "    return tokenizer.decode(hypotheses[0], skip_special_tokens=True)"
      ],
      "execution_count": null,
      "outputs": []
    },
    {
      "cell_type": "code",
      "metadata": {
        "colab": {
          "base_uri": "https://localhost:8080/"
        },
        "id": "niiTnR9SsRJq",
        "outputId": "46cf48fa-9804-4ded-98ab-67866b5b4a1e"
      },
      "source": [
        "# print(generate('translate ru-en | Каждый охотник желает знать, где сидит\n",
        "print(generate(\n",
        "    'translate ru-en | Каждый охотник желает знать, где сидит фазан.'))\n",
        "# Each hunter wants to know, where he is."
      ],
      "execution_count": null,
      "outputs": [
        {
          "output_type": "stream",
          "name": "stdout",
          "text": [
            "Each hunter wants to know, where he is.\n"
          ]
        }
      ]
    },
    {
      "cell_type": "code",
      "metadata": {
        "colab": {
          "base_uri": "https://localhost:8080/"
        },
        "id": "72M4Y-QQ2JQS",
        "outputId": "494d0e78-a75f-4f87-a0c5-f81db41a3cd5"
      },
      "source": [
        "print(generate(\n",
        "    'translate en-ru | Every hunter wants to know where the duck is.'))\n",
        "# Все охотники хотят знать, где находится птица."
      ],
      "execution_count": null,
      "outputs": [
        {
          "output_type": "stream",
          "name": "stdout",
          "text": [
            "Все охотники хотят знать, где находится птица.\n"
          ]
        }
      ]
    },
    {
      "cell_type": "code",
      "metadata": {
        "colab": {
          "base_uri": "https://localhost:8080/"
        },
        "id": "vCfH4H_UsTpz",
        "outputId": "86494e95-1913-4461-c1cd-68e1f486f581"
      },
      "source": [
        "print(generate(\n",
        "    'paraphrase | Каждый охотник желает знать, где сидит фазан.', \n",
        "    encoder_no_repeat_ngram_size=1, repetition_penalty=0.5, \n",
        "    no_repeat_ngram_size=1\n",
        "))\n",
        "# В любом случае каждый рыбак мечтает познакомиться со своей фермой"
      ],
      "execution_count": null,
      "outputs": [
        {
          "output_type": "stream",
          "name": "stdout",
          "text": [
            "В любом случае каждый рыбак мечтает познакомиться со своей фермой\n"
          ]
        }
      ]
    },
    {
      "cell_type": "code",
      "metadata": {
        "colab": {
          "base_uri": "https://localhost:8080/"
        },
        "id": "8kz9zAAasfsU",
        "outputId": "6528dfe0-ab11-4c31-8ecf-a8bbcaa6b447"
      },
      "source": [
        "print(generate('fill | Каждый охотник _3_, где сидит фазан.'))\n",
        "# смотрит на озеро\n",
        "\n",
        "print(generate('assemble | охотник каждый знать фазан сидит'))\n",
        "# Каждый охотник знает, что фазан сидит."
      ],
      "execution_count": null,
      "outputs": [
        {
          "output_type": "stream",
          "name": "stdout",
          "text": [
            "смотрит на озеро\n",
            "Каждый охотник знает, что фазан сидит.\n"
          ]
        }
      ]
    },
    {
      "cell_type": "code",
      "metadata": {
        "colab": {
          "base_uri": "https://localhost:8080/"
        },
        "id": "aHtpWHvSsj79",
        "outputId": "923d91b6-65f7-484e-c0ea-d9a44e347617"
      },
      "source": [
        "# print(generate('translate ru-en | Каждый охотник желает знать, где сидит\n",
        "\n",
        "print(generate(\n",
        "    'simplify | Местным продуктом-специалитетом с защищённым ' \\\n",
        "    'географическим наименованием по происхождению считается ' \\\n",
        "    'люнебургский степной барашек.', max_length=32))\n",
        "# Местным продуктом-специалитетом считается люнебургский степной барашек."
      ],
      "execution_count": null,
      "outputs": [
        {
          "output_type": "stream",
          "name": "stdout",
          "text": [
            "Местным продуктом-специалитетом считается люнебургский степной барашек.\n"
          ]
        }
      ]
    },
    {
      "cell_type": "code",
      "metadata": {
        "colab": {
          "base_uri": "https://localhost:8080/"
        },
        "id": "5ZV2XMRptDi0",
        "outputId": "02c2a2d0-0ded-4da8-96e7-161813ea9da6"
      },
      "source": [
        "print(generate('reply | Помогите мне закадрить девушку'))\n",
        "# Что я хочу?\n",
        "\n",
        "print(generate('answer | Помогите мне закадрить девушку'))\n",
        "# я хочу познакомиться с девушкой!!!!!!!!"
      ],
      "execution_count": null,
      "outputs": [
        {
          "output_type": "stream",
          "name": "stdout",
          "text": [
            "Что я хочу?\n",
            "я хочу познакомиться с девушкой!!!!!!!!\n"
          ]
        }
      ]
    },
    {
      "cell_type": "code",
      "metadata": {
        "colab": {
          "base_uri": "https://localhost:8080/"
        },
        "id": "-aQcPrPftF4X",
        "outputId": "45c07547-7c96-404c-d59c-67d27dd02ecd"
      },
      "source": [
        "print(generate(\n",
        "    'comprehend | На фоне земельного конфликта между владельцами овец и ' \\\n",
        "    'ранчеро разворачивается история любви овцевода Моргана Лейна, ' \\\n",
        "    'прибывшего в США из Австралии, и Марии Синглетон, владелицы ' \\\n",
        "    'богатого скотоводческого ранчо. Вопрос: откуда приехал Морган?'))\n",
        "# из Австралии"
      ],
      "execution_count": null,
      "outputs": [
        {
          "output_type": "stream",
          "name": "stdout",
          "text": [
            "из Австралии\n"
          ]
        }
      ]
    },
    {
      "cell_type": "code",
      "metadata": {
        "colab": {
          "base_uri": "https://localhost:8080/"
        },
        "id": "p8mFNZ-8tZUM",
        "outputId": "2318641e-afa4-4ba5-e7d9-9ce811447de0"
      },
      "source": [
        "print(generate(\n",
        "    'ask | На фоне земельного конфликта между владельцами овец и ' \\\n",
        "    'ранчеро разворачивается история любви овцевода Моргана Лейна, ' \\\n",
        "    'прибывшего в США из Австралии, и Марии Синглетон, владелицы ' \\\n",
        "    'богатого скотоводческого ранчо.', max_length=32))\n",
        "# Что разворачивается на фоне земельного конфликта \n",
        "# между владельцами овец и ранчеро?"
      ],
      "execution_count": null,
      "outputs": [
        {
          "output_type": "stream",
          "name": "stdout",
          "text": [
            "Что разворачивается на фоне земельного конфликта между владельцами овец и ранчеро?\n"
          ]
        }
      ]
    },
    {
      "cell_type": "code",
      "metadata": {
        "colab": {
          "base_uri": "https://localhost:8080/"
        },
        "id": "p_XogfDEr1tN",
        "outputId": "f7b4ea61-525e-4415-ae9c-b1dbf25f813a"
      },
      "source": [
        "print(generate(\n",
        "    'headline | На фоне земельного конфликта между владельцами овец ' \\\n",
        "    'и ранчеро разворачивается история любви овцевода Моргана Лейна, ' \\\n",
        "    'прибывшего в США из Австралии, и Марии Синглетон, владелицы ' \\\n",
        "    'богатого скотоводческого ранчо.', max_length=32))\n",
        "# На фоне земельного конфликта разворачивается история любви \n",
        "# овцевода Моргана Лейна и Марии Синглетон"
      ],
      "execution_count": null,
      "outputs": [
        {
          "output_type": "stream",
          "name": "stdout",
          "text": [
            "На фоне земельного конфликта разворачивается история любви овцевода Моргана Лейна и Марии Синглетон\n"
          ]
        }
      ]
    },
    {
      "cell_type": "markdown",
      "metadata": {
        "id": "jvpWpdjNt7tN"
      },
      "source": [
        "# Пример обучения на свою задачу"
      ]
    },
    {
      "cell_type": "markdown",
      "metadata": {
        "id": "rt2Tj_oCSF3K"
      },
      "source": [
        "Мы обучим нашу модель T5 на задачу генерации ответа на вопрос кроссвордно-викторинного типа. "
      ]
    },
    {
      "cell_type": "code",
      "metadata": {
        "id": "Zg02ZwbGRgGq"
      },
      "source": [
        "!pip install transformers sentencepiece "
      ],
      "execution_count": null,
      "outputs": []
    },
    {
      "cell_type": "code",
      "metadata": {
        "colab": {
          "base_uri": "https://localhost:8080/"
        },
        "id": "12K49ZP-Rt6R",
        "outputId": "1744a450-4016-46c7-f8a4-c4023cddc18f"
      },
      "source": [
        "!gdown --id 13n_UBlkCyvy28GDa-tTfR2KCtaIHyjBB"
      ],
      "execution_count": null,
      "outputs": [
        {
          "output_type": "stream",
          "name": "stdout",
          "text": [
            "Downloading...\n",
            "From: https://drive.google.com/uc?id=13n_UBlkCyvy28GDa-tTfR2KCtaIHyjBB\n",
            "To: /content/quiz.tsv\n",
            "20.9MB [00:00, 79.2MB/s]\n"
          ]
        }
      ]
    },
    {
      "cell_type": "code",
      "metadata": {
        "id": "TpM307DXRp3T"
      },
      "source": [
        "import pandas as pd\n",
        "import numpy as np\n",
        "import torch\n",
        "from transformers import T5ForConditionalGeneration, T5Tokenizer\n",
        "import random\n",
        "from tqdm.auto import tqdm, trange\n",
        "import os\n",
        "from sklearn.model_selection import train_test_split"
      ],
      "execution_count": null,
      "outputs": []
    },
    {
      "cell_type": "code",
      "metadata": {
        "id": "zecEXAbSR6Gr"
      },
      "source": [
        "df = pd.read_csv('quiz.tsv', sep='\\t')"
      ],
      "execution_count": null,
      "outputs": []
    },
    {
      "cell_type": "code",
      "metadata": {
        "id": "KlnAS_IZSAZI"
      },
      "source": [
        "pd.options.display.max_colwidth = 500"
      ],
      "execution_count": null,
      "outputs": []
    },
    {
      "cell_type": "markdown",
      "metadata": {
        "id": "EFD1AU55UgQR"
      },
      "source": [
        "Примеры вопросов и ответов выглядят как-то так. "
      ]
    },
    {
      "cell_type": "code",
      "metadata": {
        "colab": {
          "base_uri": "https://localhost:8080/"
        },
        "id": "GtYqGrtpR8Rz",
        "outputId": "8eac21ff-c4a0-42a4-af41-8b57f5dfe015"
      },
      "source": [
        "df.sample(5)"
      ],
      "execution_count": null,
      "outputs": [
        {
          "output_type": "execute_result",
          "data": {
            "text/html": [
              "<div>\n",
              "<style scoped>\n",
              "    .dataframe tbody tr th:only-of-type {\n",
              "        vertical-align: middle;\n",
              "    }\n",
              "\n",
              "    .dataframe tbody tr th {\n",
              "        vertical-align: top;\n",
              "    }\n",
              "\n",
              "    .dataframe thead th {\n",
              "        text-align: right;\n",
              "    }\n",
              "</style>\n",
              "<table border=\"1\" class=\"dataframe\">\n",
              "  <thead>\n",
              "    <tr style=\"text-align: right;\">\n",
              "      <th></th>\n",
              "      <th>q</th>\n",
              "      <th>a</th>\n",
              "      <th>d</th>\n",
              "      <th>idx</th>\n",
              "      <th>page</th>\n",
              "      <th>categ</th>\n",
              "    </tr>\n",
              "  </thead>\n",
              "  <tbody>\n",
              "    <tr>\n",
              "      <th>89557</th>\n",
              "      <td>Массовое собрание прибывших из разных мест членов спортивной организации</td>\n",
              "      <td>слет</td>\n",
              "      <td>[]</td>\n",
              "      <td>81978</td>\n",
              "      <td>80280</td>\n",
              "      <td>24</td>\n",
              "    </tr>\n",
              "    <tr>\n",
              "      <th>52362</th>\n",
              "      <td>Cyмкa для мaгaзинoв c пaтpoнaми</td>\n",
              "      <td>подсумок</td>\n",
              "      <td>[]</td>\n",
              "      <td>44623</td>\n",
              "      <td>43090</td>\n",
              "      <td>24</td>\n",
              "    </tr>\n",
              "    <tr>\n",
              "      <th>103285</th>\n",
              "      <td>Подземная горная выработка с забоем большой протяженности</td>\n",
              "      <td>лава</td>\n",
              "      <td>[]</td>\n",
              "      <td>95750</td>\n",
              "      <td>94010</td>\n",
              "      <td>24</td>\n",
              "    </tr>\n",
              "    <tr>\n",
              "      <th>128640</th>\n",
              "      <td>Это слово до XI века имело значение суд, правосудие, приговор. А сейчас это совсем не суд, а скорее суд божий. Что это?</td>\n",
              "      <td>судьба</td>\n",
              "      <td>[]</td>\n",
              "      <td>121250</td>\n",
              "      <td>119360</td>\n",
              "      <td>24</td>\n",
              "    </tr>\n",
              "    <tr>\n",
              "      <th>52785</th>\n",
              "      <td>Cкaзкa K. И. Чyкoвcкoгo</td>\n",
              "      <td>Мойдодыр</td>\n",
              "      <td>[]</td>\n",
              "      <td>45046</td>\n",
              "      <td>43510</td>\n",
              "      <td>24</td>\n",
              "    </tr>\n",
              "  </tbody>\n",
              "</table>\n",
              "</div>"
            ],
            "text/plain": [
              "                                                                                                                              q  ... categ\n",
              "89557                                                  Массовое собрание прибывших из разных мест членов спортивной организации  ...    24\n",
              "52362                                                                                           Cyмкa для мaгaзинoв c пaтpoнaми  ...    24\n",
              "103285                                                                Подземная горная выработка с забоем большой протяженности  ...    24\n",
              "128640  Это слово до XI века имело значение суд, правосудие, приговор. А сейчас это совсем не суд, а скорее суд божий. Что это?  ...    24\n",
              "52785                                                                                                   Cкaзкa K. И. Чyкoвcкoгo  ...    24\n",
              "\n",
              "[5 rows x 6 columns]"
            ]
          },
          "metadata": {},
          "execution_count": 4
        }
      ]
    },
    {
      "cell_type": "markdown",
      "metadata": {
        "id": "JMMzgnKRUkkD"
      },
      "source": [
        "Разобьем выборку на обучающую и тестовую, и обучающую превратим в список пар. "
      ]
    },
    {
      "cell_type": "code",
      "metadata": {
        "id": "eKUfWYC9Ufff"
      },
      "source": [
        "df_train, df_test = train_test_split(df.dropna(), test_size=0.5, random_state=1)\n",
        "pairs = df_train[['q', 'a']].values.tolist()"
      ],
      "execution_count": null,
      "outputs": []
    },
    {
      "cell_type": "markdown",
      "metadata": {
        "id": "2zFh6Pj6Uskn"
      },
      "source": [
        "Инициализируем модель из предобученной"
      ]
    },
    {
      "cell_type": "code",
      "metadata": {
        "id": "yEGdpRyDGCE3"
      },
      "source": [
        "raw_model = 'cointegrated/rut5-base-multitask' \n",
        "model = T5ForConditionalGeneration.from_pretrained(raw_model).cuda();\n",
        "tokenizer = T5Tokenizer.from_pretrained(raw_model)"
      ],
      "execution_count": null,
      "outputs": []
    },
    {
      "cell_type": "code",
      "metadata": {
        "id": "ITWNjX08FsTl"
      },
      "source": [
        "optimizer = torch.optim.Adam(model.parameters(), lr=1e-5)"
      ],
      "execution_count": null,
      "outputs": []
    },
    {
      "cell_type": "markdown",
      "metadata": {
        "id": "_bHDtdM0UvaJ"
      },
      "source": [
        "Обучаем модель! Мы пройдём три эпохи, т.е. покажем данные модели по три раза.\n",
        "\n",
        "На GPU с размером батча 16 одна эпоха должна занять где-то 15 минут. "
      ]
    },
    {
      "cell_type": "code",
      "metadata": {
        "id": "th1-XEwjOcTf"
      },
      "source": [
        "batch_size = 16  # сколько примеров показывем модели за один шаг\n",
        "report_steps = 200  # раз в сколько шагов печатаем результат\n",
        "epochs = 3  # сколько раз мы покажем данные модели"
      ],
      "execution_count": null,
      "outputs": []
    },
    {
      "cell_type": "code",
      "metadata": {
        "colab": {
          "base_uri": "https://localhost:8080/",
          "referenced_widgets": [
            "35e0f7b34b044ff9868f2118aa41cace",
            "b0edee2cd55d40fc8164199fbf426357",
            "f57de6e28b864ccda8b05f5259eba384",
            "718e5e922c3d4a29b606c858ad5eea29",
            "19234dd241f2466eb5884a399562c3e6",
            "9b686f3a8e724abe8bda0a2523bb1c1c",
            "9b2337be7274481c8561f0d029e3f4c7",
            "82d279851f37448b93caf45718a122b1",
            "98bc303e23894c46bede0d858f3efc7d",
            "8a3675cf66cf484994200b351555db21",
            "59f45d2f6d7540ff8f858906d1eb9349",
            "70e432469d154cdca96782959ba712e1",
            "cd171f013df54246b5ea8c6661b94880",
            "1a900a508545433b8eaccd5a7d46742a",
            "f32adc38d36245dd93141fbe6114a616",
            "168b42033aa04a1f86c35a896a0e97ae",
            "1dad717a478d4ad3935a15627e2eca3f",
            "e7345da9af5e4a6a9e509c7e40af6ecb",
            "026806de57ed4a3290f22e4967b41f28",
            "0e5eeff3a2b24671a60c02e2aa0ac5d0",
            "7ffa71ded77f4c40887d6adeb86b9536",
            "5a48079fd4194ff8894f4a9dcc57058b"
          ]
        },
        "id": "tBAMooj5SoT2",
        "outputId": "6bd9bd41-15d4-45f5-960e-8f9e57d30f21"
      },
      "source": [
        "model.train()\n",
        "losses = []\n",
        "for epoch in range(epochs):\n",
        "    print('EPOCH', epoch)\n",
        "    random.shuffle(pairs)\n",
        "    for i in trange(0, int(len(pairs) / batch_size)):\n",
        "        batch = pairs[i * batch_size: (i + 1) * batch_size]\n",
        "        x = tokenizer([p[0] for p in batch], return_tensors='pt', padding=True).to(model.device)\n",
        "        y = tokenizer([p[1] for p in batch], return_tensors='pt', padding=True).to(model.device)\n",
        "        y.input_ids[y.input_ids == 0] = -100\n",
        "        loss = model(\n",
        "            input_ids=x.input_ids,\n",
        "            attention_mask=x.attention_mask,\n",
        "            labels=y.input_ids,\n",
        "            decoder_attention_mask=y.attention_mask,\n",
        "            return_dict=True\n",
        "        ).loss\n",
        "        loss.backward()\n",
        "        optimizer.step()\n",
        "        optimizer.zero_grad()\n",
        "        losses.append(loss.item())\n",
        "        if i % report_steps == 0:\n",
        "            print('step', i, 'loss', np.mean(losses[-report_steps:]))"
      ],
      "execution_count": null,
      "outputs": [
        {
          "output_type": "stream",
          "name": "stdout",
          "text": [
            "EPOCH 1\n"
          ]
        },
        {
          "output_type": "display_data",
          "data": {
            "application/vnd.jupyter.widget-view+json": {
              "model_id": "35e0f7b34b044ff9868f2118aa41cace",
              "version_minor": 0,
              "version_major": 2
            },
            "text/plain": [
              "  0%|          | 0/4892 [00:00<?, ?it/s]"
            ]
          },
          "metadata": {}
        },
        {
          "output_type": "stream",
          "name": "stdout",
          "text": [
            "step 0 loss 3.8470616340637207\n",
            "step 200 loss 4.236956038475037\n",
            "step 400 loss 4.243761397600174\n",
            "step 600 loss 4.185914375782013\n",
            "step 800 loss 4.21162052154541\n",
            "step 1000 loss 4.204087338447571\n",
            "step 1200 loss 4.202062028646469\n",
            "step 1400 loss 4.189540849924088\n",
            "step 1600 loss 4.168862791061401\n",
            "step 1800 loss 4.174042043685913\n",
            "step 2000 loss 4.123842047452927\n",
            "step 2200 loss 4.086935578584671\n",
            "step 2400 loss 4.143192913532257\n",
            "step 2600 loss 4.176858893632889\n",
            "step 2800 loss 4.13883326292038\n",
            "step 3000 loss 4.160567367076874\n",
            "step 3200 loss 4.092823115587234\n",
            "step 3400 loss 4.107407578229904\n",
            "step 3600 loss 4.153625081777573\n",
            "step 3800 loss 4.086228107213974\n",
            "step 4000 loss 4.132798237800598\n",
            "step 4200 loss 4.074807376861572\n",
            "step 4400 loss 4.124523136615753\n",
            "step 4600 loss 4.053861576318741\n",
            "step 4800 loss 4.07164126753807\n",
            "EPOCH 2\n"
          ]
        },
        {
          "output_type": "display_data",
          "data": {
            "application/vnd.jupyter.widget-view+json": {
              "model_id": "70e432469d154cdca96782959ba712e1",
              "version_minor": 0,
              "version_major": 2
            },
            "text/plain": [
              "  0%|          | 0/4892 [00:00<?, ?it/s]"
            ]
          },
          "metadata": {}
        },
        {
          "output_type": "stream",
          "name": "stdout",
          "text": [
            "step 0 loss 4.070417506694794\n",
            "step 200 loss 4.070597746372223\n",
            "step 400 loss 4.094182950258255\n",
            "step 600 loss 4.063615082502365\n",
            "step 800 loss 3.967441118955612\n",
            "step 1000 loss 4.011284437179565\n",
            "step 1200 loss 4.020660309791565\n",
            "step 1400 loss 3.9995454287528993\n",
            "step 1600 loss 3.998213469982147\n",
            "step 1800 loss 3.971472758054733\n",
            "step 2000 loss 4.004275197982788\n",
            "step 2200 loss 3.9787186360359192\n",
            "step 2400 loss 3.954311252832413\n",
            "step 2600 loss 3.972656538486481\n",
            "step 2800 loss 3.9850507843494416\n",
            "step 3000 loss 3.9864893901348113\n",
            "step 3200 loss 3.918144265413284\n",
            "step 3400 loss 3.98400639295578\n",
            "step 3600 loss 3.972563716173172\n",
            "step 3800 loss 3.951940791606903\n",
            "step 4000 loss 3.968209079504013\n",
            "step 4200 loss 3.967874040603638\n",
            "step 4400 loss 3.9230076920986177\n",
            "step 4600 loss 3.9887063550949096\n",
            "step 4800 loss 3.957128328084946\n"
          ]
        }
      ]
    },
    {
      "cell_type": "markdown",
      "metadata": {
        "id": "uGnVehuSTOxW"
      },
      "source": [
        "Это - функция для генерации ответа"
      ]
    },
    {
      "cell_type": "code",
      "metadata": {
        "id": "OPdjnDa4V4EY"
      },
      "source": [
        "model.eval()\n",
        "\n",
        "def answer(x, **kwargs):\n",
        "    inputs = tokenizer(x, return_tensors='pt').to(model.device) \n",
        "    with torch.no_grad():\n",
        "        hypotheses = model.generate(**inputs, **kwargs)\n",
        "    return tokenizer.decode(hypotheses[0], skip_special_tokens=True)"
      ],
      "execution_count": null,
      "outputs": []
    },
    {
      "cell_type": "markdown",
      "metadata": {
        "id": "CChOPZ14dd8_"
      },
      "source": [
        "Посмотрим, насколько хорошо модель выучила свою тренировочную выборку. "
      ]
    },
    {
      "cell_type": "code",
      "metadata": {
        "colab": {
          "base_uri": "https://localhost:8080/"
        },
        "id": "Hu2opHTcdIXw",
        "outputId": "449c9be0-86b4-4721-a874-e57378db3ea2"
      },
      "source": [
        "sample = df_train.sample(5)\n",
        "for i, row in sample.iterrows():\n",
        "    print(row.q)\n",
        "    print('answer:', row.a)\n",
        "    print('model: ', answer(row.q))\n",
        "    print('---')"
      ],
      "execution_count": null,
      "outputs": [
        {
          "output_type": "stream",
          "name": "stdout",
          "text": [
            "Какое животное раньше называли камелопардом?\n",
            "answer: Жираф\n",
            "model:  акула\n",
            "---\n",
            "Грамматическая категория глагола, выражающая отношение действия к действительности (в лингвистике)\n",
            "answer: наклонение\n",
            "model:  действие\n",
            "---\n",
            "О чём поется в песне Greenday – «Wake Me Up When September Ends» (Разбуди меня, когда сентябрь кончится)?\n",
            "answer: О смерти его отца\n",
            "model:  о лете\n",
            "---\n",
            "Соседка Земли по Солнечной системе\n",
            "answer: Венера\n",
            "model:  Африка\n",
            "---\n",
            "Отношение размеров на чертеже, карте и т. п. к действительным размерам на местности, предмете\n",
            "answer: масштаб\n",
            "model:  пропорциональность\n",
            "---\n"
          ]
        }
      ]
    },
    {
      "cell_type": "markdown",
      "metadata": {
        "id": "HMNMv0IKdjso"
      },
      "source": [
        "Теперь посмотрим, насколько хорошо модель справляется с ответами на вопросы, которые она не видела. "
      ]
    },
    {
      "cell_type": "code",
      "metadata": {
        "colab": {
          "base_uri": "https://localhost:8080/"
        },
        "id": "TxKco1xWVrJJ",
        "outputId": "94df58c5-cb49-47d0-9921-732c81e11f54"
      },
      "source": [
        "sample = df_test.sample(5)\n",
        "for i, row in sample.iterrows():\n",
        "    print(row.q)\n",
        "    print('answer:', row.a)\n",
        "    print('model: ', answer(row.q))\n",
        "    print('---')"
      ],
      "execution_count": null,
      "outputs": [
        {
          "output_type": "stream",
          "name": "stdout",
          "text": [
            "Минерал, сульфид марганца\n",
            "answer: алабандин\n",
            "model:  сульфид\n",
            "---\n",
            "Где находится родина табака?\n",
            "answer: Южная Америка\n",
            "model:  Бразилия\n",
            "---\n",
            "Старинный русский головной убор с приподнятым вверх спереди и сзади околышем\n",
            "answer: кораблик\n",
            "model:  шнур\n",
            "---\n",
            "Почетное звание у тюрков и монголов, дававшееся за воинские подвиги\n",
            "answer: батыр\n",
            "model:  аким\n",
            "---\n",
            "Счетный прибор\n",
            "answer: арифмометр\n",
            "model:  таблица\n",
            "---\n"
          ]
        }
      ]
    },
    {
      "cell_type": "code",
      "metadata": {
        "colab": {
          "base_uri": "https://localhost:8080/"
        },
        "id": "ziPkhebHml5h",
        "outputId": "6e23135e-1909-471c-d11d-9b4f64494112"
      },
      "source": [
        "for q in ['Животное с хоботом', 'Деревянный дом', 'кто возглавил революцию в России?']:\n",
        "    print(q)\n",
        "    print(answer(q, do_sample=True, top_p=0.9))\n",
        "    print()"
      ],
      "execution_count": null,
      "outputs": [
        {
          "output_type": "stream",
          "name": "stdout",
          "text": [
            "Животное с хоботом\n",
            "хомяк\n",
            "\n",
            "Деревянный дом\n",
            "ампир\n",
            "\n",
            "кто возглавил революцию в России?\n",
            "Пётр\n",
            "\n"
          ]
        }
      ]
    },
    {
      "cell_type": "code",
      "metadata": {
        "colab": {
          "base_uri": "https://localhost:8080/"
        },
        "id": "oOKOOJKOcvRq",
        "outputId": "5baaf588-4e2a-438e-9e96-25f5cb684992"
      },
      "source": [
        "new_model_name = 'final_model'  # название папки\n",
        "model.save_pretrained(new_model_name)\n",
        "tokenizer.save_pretrained(new_model_name)"
      ],
      "execution_count": null,
      "outputs": [
        {
          "output_type": "execute_result",
          "data": {
            "text/plain": [
              "('final_model/tokenizer_config.json',\n",
              " 'final_model/special_tokens_map.json',\n",
              " 'final_model/spiece.model',\n",
              " 'final_model/added_tokens.json')"
            ]
          },
          "metadata": {},
          "execution_count": 45
        }
      ]
    },
    {
      "cell_type": "markdown",
      "metadata": {
        "id": "71aXRFJJf_bu"
      },
      "source": [
        "## Выкладка на HG"
      ]
    },
    {
      "cell_type": "code",
      "metadata": {
        "colab": {
          "base_uri": "https://localhost:8080/"
        },
        "id": "emtAuCPdft9X",
        "outputId": "962507d4-d11f-4c13-99c1-047e2657f506"
      },
      "source": [
        "# install LFS\n",
        "!curl -s https://packagecloud.io/install/repositories/github/git-lfs/script.deb.sh | sudo bash\n",
        "!sudo apt-get install git-lfs\n",
        "!git lfs install"
      ],
      "execution_count": null,
      "outputs": [
        {
          "output_type": "stream",
          "name": "stdout",
          "text": [
            "Detected operating system as Ubuntu/bionic.\n",
            "Checking for curl...\n",
            "Detected curl...\n",
            "Checking for gpg...\n",
            "Detected gpg...\n",
            "Running apt-get update... done.\n",
            "Installing apt-transport-https... done.\n",
            "Installing /etc/apt/sources.list.d/github_git-lfs.list...done.\n",
            "Importing packagecloud gpg key... done.\n",
            "Running apt-get update... done.\n",
            "\n",
            "The repository is setup! You can now install packages.\n",
            "Reading package lists... Done\n",
            "Building dependency tree       \n",
            "Reading state information... Done\n",
            "The following NEW packages will be installed:\n",
            "  git-lfs\n",
            "0 upgraded, 1 newly installed, 0 to remove and 38 not upgraded.\n",
            "Need to get 6,521 kB of archives.\n",
            "After this operation, 14.7 MB of additional disk space will be used.\n",
            "Get:1 https://packagecloud.io/github/git-lfs/ubuntu bionic/main amd64 git-lfs amd64 3.0.1 [6,521 kB]\n",
            "Fetched 6,521 kB in 0s (19.5 MB/s)\n",
            "debconf: unable to initialize frontend: Dialog\n",
            "debconf: (No usable dialog-like program is installed, so the dialog based frontend cannot be used. at /usr/share/perl5/Debconf/FrontEnd/Dialog.pm line 76, <> line 1.)\n",
            "debconf: falling back to frontend: Readline\n",
            "debconf: unable to initialize frontend: Readline\n",
            "debconf: (This frontend requires a controlling tty.)\n",
            "debconf: falling back to frontend: Teletype\n",
            "dpkg-preconfigure: unable to re-open stdin: \n",
            "Selecting previously unselected package git-lfs.\n",
            "(Reading database ... 155051 files and directories currently installed.)\n",
            "Preparing to unpack .../git-lfs_3.0.1_amd64.deb ...\n",
            "Unpacking git-lfs (3.0.1) ...\n",
            "Setting up git-lfs (3.0.1) ...\n",
            "Git LFS initialized.\n",
            "Processing triggers for man-db (2.8.3-2ubuntu0.1) ...\n",
            "Git LFS initialized.\n"
          ]
        }
      ]
    },
    {
      "cell_type": "code",
      "metadata": {
        "colab": {
          "base_uri": "https://localhost:8080/"
        },
        "id": "mB0uRtyJgK1Q",
        "outputId": "b628a3e6-b2ab-4843-ca2f-1b39fcf06658"
      },
      "source": [
        "# install HF\n",
        "!pip install huggingface_hub"
      ],
      "execution_count": null,
      "outputs": [
        {
          "output_type": "stream",
          "name": "stdout",
          "text": [
            "Requirement already satisfied: huggingface_hub in /usr/local/lib/python3.7/dist-packages (0.0.18)\n",
            "Requirement already satisfied: ruamel.yaml==0.17.16 in /usr/local/lib/python3.7/dist-packages (from huggingface_hub) (0.17.16)\n",
            "Requirement already satisfied: importlib-metadata in /usr/local/lib/python3.7/dist-packages (from huggingface_hub) (4.8.1)\n",
            "Requirement already satisfied: requests in /usr/local/lib/python3.7/dist-packages (from huggingface_hub) (2.23.0)\n",
            "Requirement already satisfied: typing-extensions in /usr/local/lib/python3.7/dist-packages (from huggingface_hub) (3.7.4.3)\n",
            "Requirement already satisfied: filelock in /usr/local/lib/python3.7/dist-packages (from huggingface_hub) (3.2.0)\n",
            "Requirement already satisfied: tqdm in /usr/local/lib/python3.7/dist-packages (from huggingface_hub) (4.62.3)\n",
            "Requirement already satisfied: packaging>=20.9 in /usr/local/lib/python3.7/dist-packages (from huggingface_hub) (21.0)\n",
            "Requirement already satisfied: ruamel.yaml.clib>=0.1.2 in /usr/local/lib/python3.7/dist-packages (from ruamel.yaml==0.17.16->huggingface_hub) (0.2.6)\n",
            "Requirement already satisfied: pyparsing>=2.0.2 in /usr/local/lib/python3.7/dist-packages (from packaging>=20.9->huggingface_hub) (2.4.7)\n",
            "Requirement already satisfied: zipp>=0.5 in /usr/local/lib/python3.7/dist-packages (from importlib-metadata->huggingface_hub) (3.6.0)\n",
            "Requirement already satisfied: urllib3!=1.25.0,!=1.25.1,<1.26,>=1.21.1 in /usr/local/lib/python3.7/dist-packages (from requests->huggingface_hub) (1.24.3)\n",
            "Requirement already satisfied: certifi>=2017.4.17 in /usr/local/lib/python3.7/dist-packages (from requests->huggingface_hub) (2021.5.30)\n",
            "Requirement already satisfied: idna<3,>=2.5 in /usr/local/lib/python3.7/dist-packages (from requests->huggingface_hub) (2.10)\n",
            "Requirement already satisfied: chardet<4,>=3.0.2 in /usr/local/lib/python3.7/dist-packages (from requests->huggingface_hub) (3.0.4)\n"
          ]
        }
      ]
    },
    {
      "cell_type": "code",
      "metadata": {
        "colab": {
          "base_uri": "https://localhost:8080/"
        },
        "id": "7JQajkzSgCca",
        "outputId": "9618a892-d6d8-4f4f-9b6e-c481e18ca4cf"
      },
      "source": [
        "# login manually\n",
        "!git config --global credential.helper store\n",
        "!huggingface-cli login"
      ],
      "execution_count": null,
      "outputs": [
        {
          "output_type": "stream",
          "name": "stdout",
          "text": [
            "\n",
            "        _|    _|  _|    _|    _|_|_|    _|_|_|  _|_|_|  _|      _|    _|_|_|      _|_|_|_|    _|_|      _|_|_|  _|_|_|_|\n",
            "        _|    _|  _|    _|  _|        _|          _|    _|_|    _|  _|            _|        _|    _|  _|        _|\n",
            "        _|_|_|_|  _|    _|  _|  _|_|  _|  _|_|    _|    _|  _|  _|  _|  _|_|      _|_|_|    _|_|_|_|  _|        _|_|_|\n",
            "        _|    _|  _|    _|  _|    _|  _|    _|    _|    _|    _|_|  _|    _|      _|        _|    _|  _|        _|\n",
            "        _|    _|    _|_|      _|_|_|    _|_|_|  _|_|_|  _|      _|    _|_|_|      _|        _|    _|    _|_|_|  _|_|_|_|\n",
            "\n",
            "        \n",
            "Username: cointegrated\n",
            "Password: \n",
            "Login successful\n",
            "Your token has been saved to /root/.huggingface/token\n"
          ]
        }
      ]
    },
    {
      "cell_type": "code",
      "metadata": {
        "colab": {
          "base_uri": "https://localhost:8080/"
        },
        "id": "2B2qg9vBgFvY",
        "outputId": "eab9c615-95d5-4d01-8a3c-12538f113ea5"
      },
      "source": [
        "# Create the repository\n",
        "!huggingface-cli repo create rut5-base-quiz"
      ],
      "execution_count": null,
      "outputs": [
        {
          "output_type": "stream",
          "name": "stdout",
          "text": [
            "\u001b[90mgit version 2.17.1\u001b[0m\n",
            "\u001b[90mgit-lfs/3.0.1 (GitHub; linux amd64; go 1.17)\u001b[0m\n",
            "\n",
            "You are about to create \u001b[1mcointegrated/rut5-base-quiz\u001b[0m\n",
            "Proceed? [Y/n] Y\n",
            "\n",
            "Your repo now lives at:\n",
            "  \u001b[1mhttps://huggingface.co/cointegrated/rut5-base-quiz\u001b[0m\n",
            "\n",
            "You can clone it locally with the command below, and commit/push as usual.\n",
            "\n",
            "  git clone https://huggingface.co/cointegrated/rut5-base-quiz\n",
            "\n"
          ]
        }
      ]
    },
    {
      "cell_type": "code",
      "metadata": {
        "colab": {
          "base_uri": "https://localhost:8080/"
        },
        "id": "hOfAR_SvgJwh",
        "outputId": "249c807c-f236-4241-e9b5-14cef84cd0d3"
      },
      "source": [
        "# initialize it locally\n",
        "! git clone https://huggingface.co/cointegrated/rut5-base-quiz\n",
        "! cd rut5-base-quiz &&  git lfs install & git config --global user.email \"dale.david@mail.ru\""
      ],
      "execution_count": null,
      "outputs": [
        {
          "output_type": "stream",
          "name": "stdout",
          "text": [
            "Cloning into 'rut5-base-quiz'...\n",
            "remote: Enumerating objects: 3, done.\u001b[K\n",
            "remote: Counting objects: 100% (3/3), done.\u001b[K\n",
            "remote: Compressing objects: 100% (2/2), done.\u001b[K\n",
            "remote: Total 3 (delta 0), reused 0 (delta 0)\u001b[K\n",
            "Unpacking objects: 100% (3/3), done.\n",
            "Updated git hooks.\n",
            "Git LFS initialized.\n"
          ]
        }
      ]
    },
    {
      "cell_type": "code",
      "metadata": {
        "id": "dshGfIOEgNj8"
      },
      "source": [
        "# copy the model from disk\n",
        "! cp -r final_model/* rut5-base-quiz"
      ],
      "execution_count": null,
      "outputs": []
    },
    {
      "cell_type": "code",
      "metadata": {
        "colab": {
          "base_uri": "https://localhost:8080/"
        },
        "id": "3LOBxiEBgFFP",
        "outputId": "f056191e-8cf0-4ff3-908c-115d6bdeced6"
      },
      "source": [
        "# add to git and commit the model\n",
        "! cd rut5-base-quiz && git add . && git commit -m \"The first commit\" && git push"
      ],
      "execution_count": null,
      "outputs": [
        {
          "output_type": "stream",
          "name": "stdout",
          "text": [
            "[main e9a32de] The first commit\n",
            " 5 files changed, 38 insertions(+)\n",
            " create mode 100644 config.json\n",
            " create mode 100644 pytorch_model.bin\n",
            " create mode 100644 special_tokens_map.json\n",
            " create mode 100644 spiece.model\n",
            " create mode 100644 tokenizer_config.json\n",
            "Uploading LFS objects: 100% (2/2), 978 MB | 17 MB/s, done.\n",
            "Counting objects: 7, done.\n",
            "Delta compression using up to 2 threads.\n",
            "Compressing objects: 100% (7/7), done.\n",
            "Writing objects: 100% (7/7), 1.28 KiB | 1.28 MiB/s, done.\n",
            "Total 7 (delta 0), reused 0 (delta 0)\n",
            "To https://huggingface.co/cointegrated/rut5-base-quiz\n",
            "   05d9f10..e9a32de  main -> main\n"
          ]
        }
      ]
    },
    {
      "cell_type": "code",
      "metadata": {
        "id": "-pzJEPBVnOIM"
      },
      "source": [],
      "execution_count": null,
      "outputs": []
    }
  ]
}